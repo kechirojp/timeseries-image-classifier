{
 "cells": [
  {
   "cell_type": "markdown",
   "id": "0",
   "metadata": {
    "id": "facf3e82"
   },
   "source": [
    "# 時系列画像分類器 - ハイパーパラメータ最適化 (Google Colab)\n",
    "\n",
    "このノートブックは、Google Colab環境で時系列画像分類器のハイパーパラメータ最適化を実行するためのものです。\n",
    "\n",
    "## 実行前の準備\n",
    "\n",
    "1. Google Driveにプロジェクトフォルダをアップロードしておいてください\n",
    "2. プロジェクトフォルダは `/content/drive/MyDrive/Time_Series_Classifier` に配置されている想定です\n",
    "3. データファイルは `data` ディレクトリに配置されている必要があります"
   ]
  },
  {
   "cell_type": "markdown",
   "id": "1",
   "metadata": {
    "id": "1c70b686"
   },
   "source": [
    "## 1. 環境設定とマウント\n",
    "\n",
    "Google Driveをマウントし、プロジェクトディレクトリに移動します。"
   ]
  },
  {
   "cell_type": "code",
   "execution_count": null,
   "id": "2",
   "metadata": {
    "colab": {
     "base_uri": "https://localhost:8080/"
    },
    "executionInfo": {
     "elapsed": 37319,
     "status": "ok",
     "timestamp": 1747463480876,
     "user": {
      "displayName": "土倉恵一郎",
      "userId": "13053641895557367934"
     },
     "user_tz": -540
    },
    "id": "9140341a",
    "outputId": "558a6704-fee6-4f2c-926d-22d17916233b"
   },
   "outputs": [],
   "source": [
    "# Google Driveをマウント\n",
    "from google.colab import drive\n",
    "drive.mount('/content/drive')\n",
    "\n",
    "# プロジェクトディレクトリに移動\n",
    "import os\n",
    "project_root = '/content/drive/MyDrive/Time_Series_Classifier'\n",
    "os.chdir(project_root)\n",
    "print(f\"カレントディレクトリ: {os.getcwd()}\")"
   ]
  },
  {
   "cell_type": "markdown",
   "id": "3",
   "metadata": {
    "id": "08d91201"
   },
   "source": [
    "## 2. 必要なライブラリのインストール\n",
    "\n",
    "時系列画像分類器の学習に必要なライブラリをインストールします。"
   ]
  },
  {
   "cell_type": "code",
   "execution_count": null,
   "id": "4",
   "metadata": {
    "id": "de6e1397"
   },
   "outputs": [],
   "source": [
    "# # 既存のパッケージをアンインストール\n",
    "# ! pip uninstall -y lightning pytorch-lightning optuna optuna-integration\n",
    "\n",
    "# # ランタイムキャッシュを消去\n",
    "# import sys\n",
    "# for mod in list(sys.modules.keys()):\n",
    "#     if any(x in mod for x in ['lightning', 'pytorch_lightning', 'optuna']):\n",
    "#         sys.modules.pop(mod, None)\n",
    "#         print(f\"Removed from sys.modules: {mod}\")"
   ]
  },
  {
   "cell_type": "markdown",
   "id": "5",
   "metadata": {
    "id": "5eab6d9c"
   },
   "source": [
    "## 3. ハイパーパラメータ最適化の実行\n",
    "\n",
    "Optunaを使用して、時系列画像分類モデルのハイパーパラメータを最適化します。"
   ]
  },
  {
   "cell_type": "code",
   "execution_count": null,
   "id": "6",
   "metadata": {
    "colab": {
     "base_uri": "https://localhost:8080/"
    },
    "executionInfo": {
     "elapsed": 84396,
     "status": "ok",
     "timestamp": 1747463565286,
     "user": {
      "displayName": "土倉恵一郎",
      "userId": "13053641895557367934"
     },
     "user_tz": -540
    },
    "id": "6ea7f6c3",
    "outputId": "02614c3d-a66f-4614-dc8e-94b9c841517f"
   },
   "outputs": [],
   "source": [
    "# 環境変数を設定（最適化スクリプトが参照する設定ファイルのパス）\n",
    "import os\n",
    "\n",
    "# Google Colab用の設定ファイルパスを指定\n",
    "base_config_path = '/content/drive/MyDrive/Time_Series_Classifier/configs/config_for_google_colab.yaml'\n",
    "tuning_config_path = '/content/drive/MyDrive/Time_Series_Classifier/tuning/config_for_google_colab.yaml'\n",
    "\n",
    "# 環境変数として設定\n",
    "os.environ['BASE_CONFIG_PATH'] = base_config_path\n",
    "os.environ['TUNING_CONFIG_PATH'] = tuning_config_path\n",
    "\n",
    "print(f\"BASE_CONFIG_PATH: {os.environ['BASE_CONFIG_PATH']}\")\n",
    "print(f\"TUNING_CONFIG_PATH: {os.environ['TUNING_CONFIG_PATH']}\")\n",
    "\n",
    "# 設定ファイルの存在確認\n",
    "for path, name in [(base_config_path, \"ベース設定\"), (tuning_config_path, \"チューニング設定\")]:\n",
    "    if os.path.exists(path):\n",
    "        print(f\"✅ {name}ファイルが見つかりました: {path}\")\n",
    "    else:\n",
    "        print(f\"❌ {name}ファイルが見つかりません: {path}\")"
   ]
  },
  {
   "cell_type": "markdown",
   "id": "7",
   "metadata": {
    "id": "e8b2b70b"
   },
   "source": [
    "## 4. 最適化の実行\n",
    "\n",
    "設定されたパラメータ範囲でハイパーパラメータの最適化を開始します。"
   ]
  },
  {
   "cell_type": "code",
   "execution_count": null,
   "id": "8",
   "metadata": {
    "colab": {
     "base_uri": "https://localhost:8080/"
    },
    "executionInfo": {
     "elapsed": 202,
     "status": "ok",
     "timestamp": 1747463565487,
     "user": {
      "displayName": "土倉恵一郎",
      "userId": "13053641895557367934"
     },
     "user_tz": -540
    },
    "id": "773b19fa",
    "outputId": "870fb7ca-f2db-459b-e4ab-fefed1575cab"
   },
   "outputs": [],
   "source": [
    "# 設定ファイルの読み込みと確認\n",
    "import yaml\n",
    "\n",
    "config_path = os.environ['TUNING_CONFIG_PATH']\n",
    "\n",
    "try:\n",
    "    with open(config_path, 'r', encoding='utf-8') as file:\n",
    "        config = yaml.safe_load(file)\n",
    "    \n",
    "    print(\"=== 分類器設定ファイル内容 ===\")\n",
    "    print(f\"データセット設定:\")\n",
    "    print(f\"  - データセットA: {config.get('dataset_a_dir', 'N/A')}\")\n",
    "    print(f\"  - データセットB: {config.get('dataset_b_dir', 'N/A')}\")\n",
    "    print(f\"  - バッチサイズ: {config.get('batch_size', 'N/A')}\")\n",
    "    \n",
    "    print(f\"\\nモデル設定:\")\n",
    "    print(f\"  - アーキテクチャ: {config.get('model_name', 'N/A')}\")\n",
    "    print(f\"  - クラス数: {config.get('num_classes', 'N/A')}\")\n",
    "    print(f\"  - クラス名: {config.get('class_names', 'N/A')}\")\n",
    "    \n",
    "    print(f\"\\n学習設定:\")\n",
    "    print(f\"  - 最大エポック数: {config.get('max_epochs', 'N/A')}\")\n",
    "    print(f\"  - 学習率: {config.get('learning_rate', 'N/A')}\")\n",
    "    \n",
    "    print(\"\\n設定ファイル読み込み成功✅\")\n",
    "    \n",
    "except FileNotFoundError:\n",
    "    print(f\"❌ エラー: 設定ファイルが見つかりません: {config_path}\")\n",
    "except yaml.YAMLError as e:\n",
    "    print(f\"❌ YAML解析エラー: {e}\")\n",
    "except Exception as e:\n",
    "    print(f\"❌ 予期しないエラー: {e}\")"
   ]
  },
  {
   "cell_type": "markdown",
   "id": "9",
   "metadata": {
    "id": "8341a133"
   },
   "source": [
    "## 5. 最適化結果の確認\n",
    "\n",
    "最適化完了後、ベストトライアルの情報を確認します。"
   ]
  },
  {
   "cell_type": "code",
   "execution_count": null,
   "id": "10",
   "metadata": {
    "id": "6e142bc1"
   },
   "outputs": [],
   "source": [
    "# データセットディレクトリの確認\n",
    "import os\n",
    "\n",
    "def check_dataset_structure(base_path, dataset_name):\n",
    "    \"\"\"データセットディレクトリの構造を確認\"\"\"\n",
    "    print(f\"\\n=== {dataset_name} データセット確認 ===\")\n",
    "    \n",
    "    if not os.path.exists(base_path):\n",
    "        print(f\"❌ データセットディレクトリが見つかりません: {base_path}\")\n",
    "        return False\n",
    "    \n",
    "    print(f\"✅ データセットパス: {base_path}\")\n",
    "    \n",
    "    # クラスディレクトリの確認\n",
    "    try:\n",
    "        class_dirs = [d for d in os.listdir(base_path) \n",
    "                     if os.path.isdir(os.path.join(base_path, d))]\n",
    "        print(f\"クラス数: {len(class_dirs)}\")\n",
    "        \n",
    "        for class_dir in sorted(class_dirs):\n",
    "            class_path = os.path.join(base_path, class_dir)\n",
    "            image_count = len([f for f in os.listdir(class_path) \n",
    "                             if f.lower().endswith(('.png', '.jpg', '.jpeg'))])\n",
    "            print(f\"  - {class_dir}: {image_count} 画像\")\n",
    "            \n",
    "    except Exception as e:\n",
    "        print(f\"❌ ディレクトリ読み込みエラー: {e}\")\n",
    "        return False\n",
    "    \n",
    "    return True\n",
    "\n",
    "# 設定からデータセットパスを取得\n",
    "dataset_a_path = config.get('dataset_a_dir')\n",
    "dataset_b_path = config.get('dataset_b_dir')\n",
    "\n",
    "# データセット確認\n",
    "if dataset_a_path:\n",
    "    check_dataset_structure(dataset_a_path, \"データセットA\")\n",
    "    \n",
    "if dataset_b_path:\n",
    "    check_dataset_structure(dataset_b_path, \"データセットB\")"
   ]
  },
  {
   "cell_type": "markdown",
   "id": "11",
   "metadata": {
    "id": "b20c00b3"
   },
   "source": [
    "## 6. 最適化履歴の可視化\n",
    "\n",
    "Optunaの最適化過程を可視化して、学習の進捗を確認します。"
   ]
  },
  {
   "cell_type": "code",
   "execution_count": null,
   "id": "12",
   "metadata": {
    "colab": {
     "base_uri": "https://localhost:8080/"
    },
    "executionInfo": {
     "elapsed": 6,
     "status": "ok",
     "timestamp": 1747463565539,
     "user": {
      "displayName": "土倉恵一郎",
      "userId": "13053641895557367934"
     },
     "user_tz": -540
    },
    "id": "0247f85d",
    "outputId": "4858ed1e-5c1b-4366-ed53-fa6a92fe6657"
   },
   "outputs": [],
   "source": [
    "# メイン実行: 時系列画像分類器の最適化と訓練\n",
    "import sys\n",
    "sys.path.append(PROJECT_ROOT)\n",
    "\n",
    "from tuning.optimize import main\n",
    "\n",
    "# 分類モデルの最適化実行\n",
    "print(\"🚀 時系列画像分類モデルの最適化を開始します...\")\n",
    "print(\"📊 Optunaを使用してハイパーパラメータを最適化し、最良のモデルを見つけます\")\n",
    "print(\"⏰ 処理には時間がかかる場合があります...\")\n",
    "\n",
    "try:\n",
    "    # 最適化実行\n",
    "    main()\n",
    "    print(\"✅ 分類モデルの最適化が完了しました!\")\n",
    "    \n",
    "except Exception as e:\n",
    "    print(f\"❌ 最適化中にエラーが発生しました: {e}\")\n",
    "    import traceback\n",
    "    traceback.print_exc()"
   ]
  },
  {
   "cell_type": "code",
   "execution_count": null,
   "id": "13",
   "metadata": {
    "colab": {
     "base_uri": "https://localhost:8080/"
    },
    "executionInfo": {
     "elapsed": 1827,
     "status": "ok",
     "timestamp": 1747463567366,
     "user": {
      "displayName": "土倉恵一郎",
      "userId": "13053641895557367934"
     },
     "user_tz": -540
    },
    "id": "d826dfb0",
    "outputId": "84dfd300-4651-463c-feb9-53672a1e97c6"
   },
   "outputs": [],
   "source": [
    "# 最適化結果の確認\n",
    "import os\n",
    "import json\n",
    "from datetime import datetime\n",
    "\n",
    "# 結果ディレクトリの確認\n",
    "results_dir = os.path.join(PROJECT_ROOT, 'tuning')\n",
    "checkpoints_dir = os.path.join(PROJECT_ROOT, 'checkpoints')\n",
    "\n",
    "print(\"=== 最適化結果の確認 ===\")\n",
    "\n",
    "# 最新のベストパラメータファイルを探す\n",
    "param_files = [f for f in os.listdir(results_dir) if f.startswith('best_params_') and f.endswith('.json')]\n",
    "if param_files:\n",
    "    latest_param_file = sorted(param_files)[-1]\n",
    "    param_path = os.path.join(results_dir, latest_param_file)\n",
    "    \n",
    "    print(f\"✅ 最新のベストパラメータファイル: {latest_param_file}\")\n",
    "    \n",
    "    try:\n",
    "        with open(param_path, 'r') as f:\n",
    "            best_params = json.load(f)\n",
    "        \n",
    "        print(\"\\n📊 最適化されたハイパーパラメータ:\")\n",
    "        for key, value in best_params.items():\n",
    "            if key != 'trial_number':\n",
    "                print(f\"  - {key}: {value}\")\n",
    "        \n",
    "        if 'trial_number' in best_params:\n",
    "            print(f\"\\n🏆 ベスト試行番号: {best_params['trial_number']}\")\n",
    "            \n",
    "    except Exception as e:\n",
    "        print(f\"❌ パラメータファイル読み込みエラー: {e}\")\n",
    "else:\n",
    "    print(\"❌ ベストパラメータファイルが見つかりません\")\n",
    "\n",
    "# チェックポイントファイルの確認\n",
    "if os.path.exists(checkpoints_dir):\n",
    "    checkpoint_files = [f for f in os.listdir(checkpoints_dir) if f.endswith('.ckpt')]\n",
    "    print(f\"\\n💾 保存されたチェックポイント数: {len(checkpoint_files)}\")\n",
    "    \n",
    "    if checkpoint_files:\n",
    "        print(\"最新のチェックポイント:\")\n",
    "        for ckpt in sorted(checkpoint_files)[-3:]:  # 最新3つを表示\n",
    "            print(f\"  - {ckpt}\")\n",
    "else:\n",
    "    print(\"❌ チェックポイントディレクトリが見つかりません\")"
   ]
  },
  {
   "cell_type": "markdown",
   "id": "14",
   "metadata": {
    "id": "d345d0e0"
   },
   "source": [
    "## モデル評価とテスト\n",
    "\n",
    "訓練されたモデルをテストデータセットで評価し、分類精度を測定します。"
   ]
  },
  {
   "cell_type": "code",
   "execution_count": null,
   "id": "15",
   "metadata": {
    "colab": {
     "base_uri": "https://localhost:8080/"
    },
    "executionInfo": {
     "elapsed": 1929,
     "status": "ok",
     "timestamp": 1747463569297,
     "user": {
      "displayName": "土倉恵一郎",
      "userId": "13053641895557367934"
     },
     "user_tz": -540
    },
    "id": "bdac9c64",
    "outputId": "735d5027-fe8f-4033-b91e-a06ffae91a60"
   },
   "outputs": [],
   "source": [
    "# 訓練済みモデルの評価\n",
    "from src.evaluate import main as evaluate_main\n",
    "\n",
    "print(\"🔍 訓練済みモデルの評価を開始します...\")\n",
    "print(\"📈 テストデータセットで分類精度を測定します\")\n",
    "\n",
    "try:\n",
    "    # モデル評価実行\n",
    "    evaluate_main()\n",
    "    print(\"✅ モデル評価が完了しました!\")\n",
    "    \n",
    "    # 評価結果ファイルの確認\n",
    "    logs_dir = os.path.join(PROJECT_ROOT, 'lightning_logs')\n",
    "    if os.path.exists(logs_dir):\n",
    "        version_dirs = [d for d in os.listdir(logs_dir) if d.startswith('version_')]\n",
    "        if version_dirs:\n",
    "            latest_version = sorted(version_dirs)[-1]\n",
    "            print(f\"📊 評価結果は {latest_version} ディレクトリに保存されました\")\n",
    "        \n",
    "except Exception as e:\n",
    "    print(f\"❌ モデル評価中にエラーが発生しました: {e}\")\n",
    "    import traceback\n",
    "    traceback.print_exc()"
   ]
  },
  {
   "cell_type": "markdown",
   "id": "16",
   "metadata": {
    "id": "c5f6b585"
   },
   "source": [
    "## 結果の可視化\n",
    "\n",
    "分類結果と学習履歴を可視化します。"
   ]
  },
  {
   "cell_type": "code",
   "execution_count": null,
   "id": "17",
   "metadata": {
    "colab": {
     "base_uri": "https://localhost:8080/",
     "height": 712
    },
    "executionInfo": {
     "elapsed": 23125,
     "status": "ok",
     "timestamp": 1747463592426,
     "user": {
      "displayName": "土倉恵一郎",
      "userId": "13053641895557367934"
     },
     "user_tz": -540
    },
    "id": "66cd22f5",
    "outputId": "596b5e49-8bc0-4924-94bb-f096621430fd"
   },
   "outputs": [],
   "source": [
    "# 結果の可視化\n",
    "from src.visualize import main as visualize_main\n",
    "\n",
    "print(\"📈 分類結果と学習履歴の可視化を開始します...\")\n",
    "\n",
    "try:\n",
    "    # 可視化実行\n",
    "    visualize_main()\n",
    "    print(\"✅ 可視化が完了しました!\")\n",
    "    \n",
    "    # 生成された図表ファイルの確認\n",
    "    figures_dir = os.path.join(PROJECT_ROOT, 'figures')\n",
    "    if os.path.exists(figures_dir):\n",
    "        figure_files = [f for f in os.listdir(figures_dir) \n",
    "                       if f.lower().endswith(('.png', '.jpg', '.jpeg', '.svg'))]\n",
    "        print(f\"📊 生成された図表: {len(figure_files)} 個\")\n",
    "        \n",
    "        # 最新の図表を表示\n",
    "        if figure_files:\n",
    "            print(\"最新の図表:\")\n",
    "            for fig in sorted(figure_files)[-3:]:  # 最新3つを表示\n",
    "                print(f\"  - {fig}\")\n",
    "    \n",
    "    print(\"\\n🎯 分類精度や混同行列などの詳細な結果は、生成された図表をご確認ください\")\n",
    "    \n",
    "except Exception as e:\n",
    "    print(f\"❌ 可視化中にエラーが発生しました: {e}\")\n",
    "    import traceback\n",
    "    traceback.print_exc()"
   ]
  },
  {
   "cell_type": "markdown",
   "id": "18",
   "metadata": {
    "id": "fe75f4d9"
   },
   "source": [
    "## 🎉 実行完了\n",
    "\n",
    "時系列画像分類器の訓練と評価が完了しました！\n",
    "\n",
    "### 生成されたファイル\n",
    "- **モデルファイル**: `checkpoints/` ディレクトリに保存\n",
    "- **最適化結果**: `tuning/best_params_*.json` に保存\n",
    "- **評価結果**: `lightning_logs/` ディレクトリに保存\n",
    "- **可視化図表**: `figures/` ディレクトリに保存\n",
    "\n",
    "### 次のステップ\n",
    "1. 生成された図表で分類精度を確認\n",
    "2. 最適化されたハイパーパラメータを確認\n",
    "3. 必要に応じてさらなるファインチューニング"
   ]
  },
  {
   "cell_type": "markdown",
   "id": "19",
   "metadata": {
    "id": "ae9d3877"
   },
   "source": [
    "---\n",
    "\n",
    "## 📋 追加機能・デバッグ\n",
    "\n",
    "以下のセクションでは、追加的な分析やデバッグ用の機能を提供します。"
   ]
  },
  {
   "cell_type": "markdown",
   "id": "20",
   "metadata": {
    "id": "f9258f1b"
   },
   "source": [
    "### 学習履歴の詳細確認\n",
    "\n",
    "TensorBoardログから学習の詳細な履歴を確認できます。"
   ]
  },
  {
   "cell_type": "code",
   "execution_count": null,
   "id": "21",
   "metadata": {
    "id": "3f77d01e"
   },
   "outputs": [],
   "source": [
    "# 学習履歴の詳細確認\n",
    "import os\n",
    "import pandas as pd\n",
    "from tensorboard.backend.event_processing.event_accumulator import EventAccumulator\n",
    "\n",
    "def extract_tensorboard_metrics(log_dir):\n",
    "    \"\"\"TensorBoardログからメトリクスを抽出\"\"\"\n",
    "    try:\n",
    "        ea = EventAccumulator(log_dir)\n",
    "        ea.Reload()\n",
    "        \n",
    "        print(f\"📊 ログディレクトリ: {log_dir}\")\n",
    "        print(f\"📈 利用可能なスカラーメトリクス: {ea.Tags()['scalars']}\")\n",
    "        \n",
    "        # 主要メトリクスの抽出\n",
    "        metrics = {}\n",
    "        for tag in ea.Tags()['scalars']:\n",
    "            scalar_events = ea.Scalars(tag)\n",
    "            metrics[tag] = [(s.step, s.value) for s in scalar_events]\n",
    "        \n",
    "        return metrics\n",
    "    \n",
    "    except Exception as e:\n",
    "        print(f\"❌ TensorBoardログ読み込みエラー: {e}\")\n",
    "        return {}\n",
    "\n",
    "# Lightning logsの確認\n",
    "logs_dir = os.path.join(PROJECT_ROOT, 'lightning_logs')\n",
    "if os.path.exists(logs_dir):\n",
    "    version_dirs = [d for d in os.listdir(logs_dir) if d.startswith('version_')]\n",
    "    \n",
    "    if version_dirs:\n",
    "        latest_version = sorted(version_dirs)[-1]\n",
    "        version_path = os.path.join(logs_dir, latest_version)\n",
    "        \n",
    "        print(f\"🔍 最新バージョン: {latest_version}\")\n",
    "        \n",
    "        # メトリクス抽出\n",
    "        metrics = extract_tensorboard_metrics(version_path)\n",
    "        \n",
    "        if metrics:\n",
    "            print(\"\\n📈 学習履歴サマリー:\")\n",
    "            for metric_name, values in metrics.items():\n",
    "                if values:\n",
    "                    final_value = values[-1][1]\n",
    "                    print(f\"  - {metric_name}: {final_value:.4f} (最終値)\")\n",
    "    else:\n",
    "        print(\"❌ 学習履歴が見つかりません\")\n",
    "else:\n",
    "    print(\"❌ Lightning logsディレクトリが見つかりません\")"
   ]
  },
  {
   "cell_type": "markdown",
   "id": "22",
   "metadata": {
    "id": "5c05ce5c"
   },
   "source": [
    "### メモリ断片化対策とGPUメモリ確保\n",
    "\n",
    "- 大きなモデルを実行する前にキャッシュをクリアし、GPUメモリを確保します\n",
    "- メモリ断片化を防ぐために `expandable_segments:True` を設定します"
   ]
  },
  {
   "cell_type": "code",
   "execution_count": null,
   "id": "23",
   "metadata": {
    "colab": {
     "background_save": true,
     "base_uri": "https://localhost:8080/"
    },
    "id": "0ffa198d"
   },
   "outputs": [],
   "source": [
    "# GPUキャッシュをクリアしてメモリを確保\n",
    "import torch\n",
    "import gc\n",
    "\n",
    "# メモリ解放\n",
    "gc.collect()\n",
    "if torch.cuda.is_available():\n",
    "    torch.cuda.empty_cache()\n",
    "    print(f\"GPUメモリを解放しました。使用可能: {torch.cuda.get_device_properties(0).total_memory / 1024**3:.2f} GB\")\n",
    "\n",
    "# メモリ断片化対策\n",
    "import os\n",
    "os.environ['PYTORCH_CUDA_ALLOC_CONF'] = 'expandable_segments:True'\n",
    "print(f\"PYTORCH_CUDA_ALLOC_CONF set to: {os.environ['PYTORCH_CUDA_ALLOC_CONF']}\")\n",
    "\n",
    "# Google Colab用の最適化スクリプトを実行 (環境変数を読み込む)\n",
    "! python /content/drive/MyDrive/NFNet_Classifier_pretrained/tuning/optimize_for_google_colab.py"
   ]
  },
  {
   "cell_type": "markdown",
   "id": "24",
   "metadata": {
    "id": "22d4acda"
   },
   "source": [
    "## TensorBoardによる最適化過程の可視化"
   ]
  },
  {
   "cell_type": "code",
   "execution_count": null,
   "id": "25",
   "metadata": {
    "id": "b141ed37"
   },
   "outputs": [],
   "source": [
    "# Colab用のTensorBoard拡張を読み込む\n",
    "%load_ext tensorboard\n",
    "# Optunaのログディレクトリを指定 (tuning/config_for_google_colab.yamlのoutput.log_dir)\n",
    "%tensorboard --logdir=/content/drive/MyDrive/NFNet_Classifier_pretrained/tuning/logs"
   ]
  },
  {
   "cell_type": "markdown",
   "id": "26",
   "metadata": {
    "id": "3a460a8e"
   },
   "source": [
    "## Optunaスタディ結果の確認"
   ]
  },
  {
   "cell_type": "code",
   "execution_count": null,
   "id": "27",
   "metadata": {
    "id": "451a2adc"
   },
   "outputs": [],
   "source": [
    "import optuna\n",
    "import yaml\n",
    "import os\n",
    "\n",
    "# 環境変数から設定ファイルのパスを取得\n",
    "tuning_config_path = os.environ.get('TUNING_CONFIG_PATH')\n",
    "if not tuning_config_path or not os.path.exists(tuning_config_path):\n",
    "    print(f\"エラー: チューニング設定ファイルが見つかりません: {tuning_config_path}\")\n",
    "else:\n",
    "    # Optuna設定ファイルを読み込む\n",
    "    with open(tuning_config_path, 'r') as f:\n",
    "        tuning_config = yaml.safe_load(f)\n",
    "\n",
    "    # ストレージパスとスタディ名を取得 (設定ファイルから)\n",
    "    storage_path = tuning_config['storage']['path'] # 設定ファイルに絶対パスが書かれている前提\n",
    "    storage_url = f\"sqlite:///{storage_path}\"\n",
    "    study_name = tuning_config['study']['name']\n",
    "\n",
    "    # Optunaデータベース情報を表示（エラー発生時の対応のため）\n",
    "    print(f\"\\n--- Optunaデータベース情報 ---\")\n",
    "    print(f\"データベースファイル: {storage_path}\")\n",
    "    print(f\"スタディ名: {study_name}\")\n",
    "    print(f\"エラー発生時の削除コマンド: rm {storage_path}\")\n",
    "\n",
    "    # スタディ情報を表示\n",
    "    try:\n",
    "        study = optuna.load_study(study_name=study_name, storage=storage_url)\n",
    "        print(f\"スタディ '{study_name}' をロードしました。\")\n",
    "        print(f\"完了したトライアル数: {len(study.trials)}\")\n",
    "\n",
    "        # 最良のトライアル情報を表示\n",
    "        best_trial = study.best_trial\n",
    "        print(\"\\n--- 最良のトライアル --- \")\n",
    "        print(f\"  トライアル番号: {best_trial.number}\")\n",
    "        print(f\"  評価値 ({tuning_config['study']['metric']}): {best_trial.value:.6f}\")\n",
    "        print(\"  パラメータ:\")\n",
    "        for key, value in best_trial.params.items():\n",
    "            print(f\"    {key}: {value}\")\n",
    "\n",
    "    except ValueError:\n",
    "        print(f\"スタディ '{study_name}' に完了したトライアルがまだありません。\")\n",
    "    except Exception as e:\n",
    "        print(f\"スタディのロードまたは結果の表示中にエラーが発生しました: {e}\")\n",
    "        print(f\"エラー解決方法: データベースファイル '{storage_path}' を手動で削除してから再実行\")"
   ]
  },
  {
   "cell_type": "markdown",
   "id": "28",
   "metadata": {
    "id": "4b42e4b9"
   },
   "source": [
    "## Optuna結果の可視化"
   ]
  },
  {
   "cell_type": "code",
   "execution_count": null,
   "id": "29",
   "metadata": {
    "id": "e28b29d6"
   },
   "outputs": [],
   "source": [
    "import optuna\n",
    "from optuna.visualization import (plot_optimization_history, plot_param_importances,\n",
    "                                 plot_contour, plot_slice, plot_parallel_coordinate)\n",
    "import yaml\n",
    "import os\n",
    "import plotly.io as pio\n",
    "\n",
    "# Kaleidoを有効化 (静的画像エクスポート用)\n",
    "pio.kaleido.scope.mathjax = None\n",
    "\n",
    "# 環境変数から設定ファイルのパスを取得\n",
    "tuning_config_path = os.environ.get('TUNING_CONFIG_PATH')\n",
    "if not tuning_config_path or not os.path.exists(tuning_config_path):\n",
    "    print(f\"エラー: チューニング設定ファイルが見つかりません: {tuning_config_path}\")\n",
    "else:\n",
    "    # Optuna設定ファイルを読み込む\n",
    "    with open(tuning_config_path, 'r') as f:\n",
    "        tuning_config = yaml.safe_load(f)\n",
    "\n",
    "    # ストレージパスとスタディ名を取得 (設定ファイルから)\n",
    "    storage_path = tuning_config['storage']['path'] # 設定ファイルに絶対パスが書かれている前提\n",
    "    storage_url = f\"sqlite:///{storage_path}\"\n",
    "    study_name = tuning_config['study']['name']\n",
    "\n",
    "    try:\n",
    "        study = optuna.load_study(study_name=study_name, storage=storage_url)\n",
    "        print(f\"スタディ '{study_name}' をロードしました。可視化を生成します...\")\n",
    "\n",
    "        # 完了したトライアルがあるか確認\n",
    "        completed_trials = [t for t in study.trials if t.state == optuna.trial.TrialState.COMPLETE]\n",
    "        if not completed_trials:\n",
    "            print(\"完了したトライアルがないため、可視化をスキップします。\")\n",
    "        else:\n",
    "            # 可視化結果の保存先ディレクトリ (設定ファイルから取得)\n",
    "            vis_save_dir = tuning_config['visualization']['save_dir']\n",
    "            os.makedirs(vis_save_dir, exist_ok=True)\n",
    "            print(f\"可視化結果の保存先: {vis_save_dir}\")\n",
    "\n",
    "            # 最適化履歴\n",
    "            try:\n",
    "                fig_history = plot_optimization_history(study)\n",
    "                fig_history.show()\n",
    "                # fig_history.write_image(os.path.join(vis_save_dir, f\"{study_name}_optimization_history.png\"))\n",
    "            except Exception as e:\n",
    "                print(f\"最適化履歴プロットの生成に失敗: {e}\")\n",
    "\n",
    "            # パラメータ重要度\n",
    "            try:\n",
    "                fig_importance = plot_param_importances(study)\n",
    "                fig_importance.show()\n",
    "                # fig_importance.write_image(os.path.join(vis_save_dir, f\"{study_name}_param_importances.png\"))\n",
    "            except Exception as e:\n",
    "                print(f\"パラメータ重要度プロットの生成に失敗: {e}\")\n",
    "\n",
    "            # パラレル座標プロット\n",
    "            try:\n",
    "                fig_parallel = plot_parallel_coordinate(study)\n",
    "                fig_parallel.show()\n",
    "                # fig_parallel.write_image(os.path.join(vis_save_dir, f\"{study_name}_parallel_coordinate.png\"))\n",
    "            except Exception as e:\n",
    "                print(f\"パラレル座標プロットの生成に失敗: {e}\")\n",
    "\n",
    "            # スライスプロット\n",
    "            try:\n",
    "                fig_slice = plot_slice(study)\n",
    "                fig_slice.show()\n",
    "                # fig_slice.write_image(os.path.join(vis_save_dir, f\"{study_name}_slice.png\"))\n",
    "            except Exception as e:\n",
    "                print(f\"スライスプロットの生成に失敗: {e}\")\n",
    "\n",
    "            # コンタープロット (重要度上位2パラメータ)\n",
    "            try:\n",
    "                importances = optuna.importance.get_param_importances(study)\n",
    "                top_params = list(importances.keys())[:2]\n",
    "                if len(top_params) >= 2:\n",
    "                    fig_contour = plot_contour(study, params=top_params)\n",
    "                    fig_contour.show()\n",
    "                    # fig_contour.write_image(os.path.join(vis_save_dir, f\"{study_name}_contour.png\"))\n",
    "                elif len(completed_trials) > 0:\n",
    "                     print(\"コンタープロットを生成するには、少なくとも2つの数値パラメータが必要です。\")\n",
    "            except ValueError as ve:\n",
    "                print(f\"コンタープロットの生成に失敗しました（{ve}）。試行回数やパラメータの種類を確認してください。\")\n",
    "            except Exception as e:\n",
    "                print(f\"コンタープロットの生成中に予期せぬエラーが発生しました: {e}\")\n",
    "\n",
    "    except ValueError:\n",
    "        print(f\"スタディ '{study_name}' に完了したトライアルがまだありません。\")\n",
    "    except Exception as e:\n",
    "        print(f\"Optuna結果の可視化中にエラーが発生しました: {e}\")"
   ]
  },
  {
   "cell_type": "markdown",
   "id": "30",
   "metadata": {
    "id": "102c1bcf"
   },
   "source": [
    "## SQLiteデータベースのロック問題解決\n",
    "\n",
    "Optunaは複数のトライアルを並列実行するとき、SQLiteデータベースのロックエラーが発生することがあります。以下の対策を実施します：\n",
    "\n",
    "1. SQLiteデータベースのタイムアウト設定を追加\n",
    "2. トライアル実行状態の確認\n",
    "3. 必要に応じてデータベースのリセット"
   ]
  },
  {
   "cell_type": "code",
   "execution_count": null,
   "id": "31",
   "metadata": {
    "id": "03da5cd5"
   },
   "outputs": [],
   "source": [
    "# import os\n",
    "# import yaml\n",
    "# import sqlite3\n",
    "# import optuna\n",
    "# from datetime import datetime\n",
    "# import shutil\n",
    "\n",
    "# # 設定ファイルのパスを確認\n",
    "# tuning_config_path = os.environ.get('TUNING_CONFIG_PATH')\n",
    "# print(f\"チューニング設定ファイル: {tuning_config_path}\")\n",
    "\n",
    "# # 設定ファイルを読み込む\n",
    "# with open(tuning_config_path, 'r') as f:\n",
    "#     tuning_config = yaml.safe_load(f)\n",
    "\n",
    "# # SQLiteデータベースファイルのパスを取得\n",
    "# storage_path = tuning_config['storage']['path']\n",
    "# print(f\"SQLiteデータベース: {storage_path}\")\n",
    "\n",
    "# # データベースのバックアップを作成（念のため）\n",
    "# if os.path.exists(storage_path):\n",
    "#     backup_timestamp = datetime.now().strftime(\"%Y%m%d_%H%M%S\")\n",
    "#     backup_path = f\"{storage_path}.{backup_timestamp}.bak\"\n",
    "#     shutil.copy2(storage_path, backup_path)\n",
    "#     print(f\"データベースのバックアップを作成: {backup_path}\")\n",
    "\n",
    "# # SQLiteデータベースに直接接続してタイムアウト設定を確認\n",
    "# try:\n",
    "#     # タイムアウト設定を30秒に\n",
    "#     conn = sqlite3.connect(storage_path, timeout=30000)\n",
    "#     cursor = conn.cursor()\n",
    "\n",
    "#     # DBのバージョン情報を表示\n",
    "#     cursor.execute(\"SELECT sqlite_version();\")\n",
    "#     version = cursor.fetchone()\n",
    "#     print(f\"SQLite バージョン: {version[0]}\")\n",
    "\n",
    "#     # トライアルテーブルの情報を取得\n",
    "#     cursor.execute(\"SELECT COUNT(*) FROM trials;\")\n",
    "#     total_trials = cursor.fetchone()[0]\n",
    "\n",
    "#     cursor.execute(\"SELECT COUNT(*) FROM trials WHERE state = 1;\")  # 1=RUNNING\n",
    "#     running_trials = cursor.fetchone()[0]\n",
    "\n",
    "#     cursor.execute(\"SELECT COUNT(*) FROM trials WHERE state = 2;\")  # 2=COMPLETE\n",
    "#     complete_trials = cursor.fetchone()[0]\n",
    "\n",
    "#     cursor.execute(\"SELECT COUNT(*) FROM trials WHERE state = 3;\")  # 3=FAIL\n",
    "#     failed_trials = cursor.fetchone()[0]\n",
    "\n",
    "#     conn.close()\n",
    "\n",
    "#     print(f\"トライアル総数: {total_trials}\")\n",
    "#     print(f\"実行中のトライアル数: {running_trials}\")\n",
    "#     print(f\"完了したトライアル数: {complete_trials}\")\n",
    "#     print(f\"失敗したトライアル数: {failed_trials}\")\n",
    "\n",
    "# except sqlite3.Error as e:\n",
    "#     print(f\"SQLiteデータベースアクセスエラー: {e}\")"
   ]
  },
  {
   "cell_type": "markdown",
   "id": "32",
   "metadata": {
    "id": "5ae62853"
   },
   "source": [
    "### ロック問題が発生した際のトライアルリセット (必要時のみ実行)\n",
    "\n",
    "複数のトライアルが並行して実行されるとSQLiteのロック競合が発生する可能性があります。以下のセルを使用して、状態が「実行中」のままになっているトライアルをリセットできます。"
   ]
  },
  {
   "cell_type": "code",
   "execution_count": null,
   "id": "33",
   "metadata": {
    "id": "0a7e1a54"
   },
   "outputs": [],
   "source": [
    "# # このセルは必要な場合のみ実行してください（実行中状態のトライアルをリセット）\n",
    "# reset_running_trials = False  # Trueに変更すると実行中のトライアルをリセットします\n",
    "\n",
    "# if reset_running_trials:\n",
    "#     try:\n",
    "#         # SQLiteデータベースに直接接続してトライアルの状態をリセット\n",
    "#         conn = sqlite3.connect(storage_path, timeout=30000)\n",
    "#         cursor = conn.cursor()\n",
    "\n",
    "#         # 実行中のトライアルの状態を「FAIL」に更新\n",
    "#         cursor.execute(\"UPDATE trials SET state = 3 WHERE state = 1\")  # 1=RUNNING, 3=FAIL\n",
    "#         affected_rows = cursor.rowcount\n",
    "#         conn.commit()\n",
    "#         conn.close()\n",
    "\n",
    "#         print(f\"{affected_rows}件のトライアルを実行中から失敗状態にリセットしました\")\n",
    "#     except sqlite3.Error as e:\n",
    "#         print(f\"トライアルリセット中にエラーが発生しました: {e}\")\n",
    "# else:\n",
    "#     print(\"トライアルのリセットはスキップされました。リセットする場合は 'reset_running_trials = True' に設定してください。\")"
   ]
  },
  {
   "cell_type": "markdown",
   "id": "34",
   "metadata": {
    "id": "e39b7944"
   },
   "source": [
    "### SQLiteタイムアウト設定の修正\n",
    "\n",
    "SQLiteデータベースへのタイムアウト設定を自動的に行うため、optimize_for_google_colab.pyファイルを更新します。これによりロックエラーが減少します。"
   ]
  },
  {
   "cell_type": "code",
   "execution_count": null,
   "id": "35",
   "metadata": {
    "id": "e685bff8"
   },
   "outputs": [],
   "source": [
    "# import re\n",
    "\n",
    "# # optimize_for_google_colab.pyファイルのパス\n",
    "# optimize_file_path = \"/content/drive/MyDrive/NFNet_Classifier_pretrained/tuning/optimize_for_google_colab.py\"\n",
    "\n",
    "# # ファイル内容を読み込む\n",
    "# with open(optimize_file_path, \"r\", encoding=\"utf-8\") as file:\n",
    "#     content = file.read()\n",
    "\n",
    "# # タイムアウト設定を追加する正規表現パターン\n",
    "# pattern = r\"storage_url = f\\\"sqlite:///{tuning_config\\['storage'\\]\\['path'\\]}\\\"\"\n",
    "# replacement = r\"storage_url = f\\\"sqlite:///{tuning_config['storage']['path']}?timeout=30000\\\"\"\n",
    "\n",
    "# # 置換を行う\n",
    "# if re.search(pattern, content):\n",
    "#     new_content = re.sub(pattern, replacement, content)\n",
    "\n",
    "#     # 変更された内容を書き戻す\n",
    "#     with open(optimize_file_path, \"w\", encoding=\"utf-8\") as file:\n",
    "#         file.write(new_content)\n",
    "#     print(\"SQLiteタイムアウト設定が追加されました (timeout=30000ms)\")\n",
    "# else:\n",
    "#     print(\"タイムアウト設定はすでに適用されているか、パターンが一致しませんでした\")"
   ]
  },
  {
   "cell_type": "markdown",
   "id": "36",
   "metadata": {
    "id": "c05c4c99"
   },
   "source": [
    "### 並列実行設定の確認と更新\n",
    "\n",
    "トライアルの並列実行数を確認・更新します。SQLiteのロック問題を完全に避けるには並列数を1にすることが推奨されますが、リスクを理解した上で高速化のために並列数を増やすこともできます。"
   ]
  },
  {
   "cell_type": "code",
   "execution_count": null,
   "id": "37",
   "metadata": {
    "id": "06e5c6fe"
   },
   "outputs": [],
   "source": [
    "# # 現在の並列実行設定を確認\n",
    "# current_n_jobs = tuning_config['parallel'].get('n_jobs', 1)\n",
    "# print(f\"現在の並列実行数: {current_n_jobs}\")\n",
    "\n",
    "# # 並列実行数を変更するかどうか\n",
    "# change_n_jobs = False  # 変更する場合はTrueに設定\n",
    "# new_n_jobs = 3  # 設定したい並列数\n",
    "\n",
    "# if change_n_jobs:\n",
    "#     # 設定ファイルを読み込み\n",
    "#     with open(tuning_config_path, 'r', encoding='utf-8') as f:\n",
    "#         tuning_config_content = f.read()\n",
    "\n",
    "#     # n_jobs設定を変更\n",
    "#     pattern = r\"(parallel:\\s*\\n\\s*n_jobs:\\s*)\\d+\"\n",
    "#     new_content = re.sub(pattern, f\"\\\\1{new_n_jobs}\", tuning_config_content)\n",
    "\n",
    "#     # 変更を書き戻す\n",
    "#     with open(tuning_config_path, 'w', encoding='utf-8') as f:\n",
    "#         f.write(new_content)\n",
    "\n",
    "#     print(f\"並列実行数を {new_n_jobs} に変更しました\")\n",
    "\n",
    "#     # 設定ファイルを再読み込み\n",
    "#     with open(tuning_config_path, 'r') as f:\n",
    "#         tuning_config = yaml.safe_load(f)\n",
    "#         print(f\"新しい並列実行数: {tuning_config['parallel'].get('n_jobs', 1)}\")\n",
    "# else:\n",
    "#     print(\"並列実行数の変更はスキップされました。変更する場合は 'change_n_jobs = True' に設定してください。\")"
   ]
  },
  {
   "cell_type": "markdown",
   "id": "38",
   "metadata": {
    "id": "ea53a5a7"
   },
   "source": [
    "## メモリ解放と最適化の再開\n",
    "\n",
    "Optunaの最適化プロセスを再開します。SQLiteタイムアウト設定を適用した状態で実行することで、データベースのロックエラーを減少させることができます。"
   ]
  },
  {
   "cell_type": "code",
   "execution_count": null,
   "id": "39",
   "metadata": {
    "id": "28b88803"
   },
   "outputs": [],
   "source": [
    "# # GPUキャッシュをクリアしてメモリを確保\n",
    "# import torch\n",
    "# import gc\n",
    "# import os\n",
    "\n",
    "# # メモリ解放\n",
    "# gc.collect()\n",
    "# if torch.cuda.is_available():\n",
    "#     torch.cuda.empty_cache()\n",
    "#     print(f\"GPUメモリを解放しました。使用可能: {torch.cuda.get_device_properties(0).total_memory / 1024**3:.2f} GB\")\n",
    "\n",
    "# # メモリ断片化対策\n",
    "# os.environ['PYTORCH_CUDA_ALLOC_CONF'] = 'expandable_segments:True'\n",
    "# print(f\"PYTORCH_CUDA_ALLOC_CONF set to: {os.environ['PYTORCH_CUDA_ALLOC_CONF']}\")\n",
    "\n",
    "# # Google Colab用の最適化スクリプトを実行\n",
    "# ! python /content/drive/MyDrive/NFNet_Classifier_pretrained/tuning/optimize_for_google_colab.py"
   ]
  }
 ],
 "metadata": {
  "accelerator": "GPU",
  "colab": {
   "gpuType": "A100",
   "machine_shape": "hm",
   "name": "",
   "version": ""
  },
  "kernelspec": {
   "display_name": "anytrading",
   "language": "python",
   "name": "python3"
  },
  "language_info": {
   "codemirror_mode": {
    "name": "ipython",
    "version": 3
   },
   "file_extension": ".py",
   "mimetype": "text/x-python",
   "name": "python",
   "nbconvert_exporter": "python",
   "pygments_lexer": "ipython3",
   "version": "3.9.19"
  }
 },
 "nbformat": 4,
 "nbformat_minor": 5
}
